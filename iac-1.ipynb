{
  "nbformat": 4,
  "nbformat_minor": 0,
  "metadata": {
  },
  "cells": [
    {
      "cell_type": "markdown",
      "metadata": {
        "id": "QiMbwRZc41uE",
        "colab_type": "text"
      },
      "source": [
        "# Introducing Infrastructure As Code With Terraform and Ansible\n",
        "\n",
        "Instructor:\n",
        "\n",
        "    Chris Coates\n",
        "    Logicalis UKI\n",
        "    chris.coates@uk.logicalis.com"
      ]
    },
    {
      "cell_type": "code",
      "metadata": {
        "id": "AMTagT7M5Aeu",
        "colab_type": "code",
        "cellView": "form",
        "outputId": "07e1c688-fe41-4304-9d07-0a5fb0d8217e",
        "colab": {
          "base_uri": "https://localhost:8080/",
          "height": 52
        }
      },
      "source": [
        "#@title Install Terraform\n",
        "#@markdown 1. Download from https://www.terraform.io/downloads.html\n",
        "#@markdown 2. unzip\n",
        "#@markdown 3. set `PATH`\n",
        "%%bash\n",
        "curl -so terraform.zip https://releases.hashicorp.com/terraform/0.12.2/terraform_0.12.2_linux_amd64.zip\n",
        "unzip terraform.zip > /dev/null && rm -f terraform.zip > /dev/null\n",
        "mv terraform /usr/local/bin > /dev/null\n",
        "terraform --version\n"
      ],
      "execution_count": 0,
      "outputs": [
        {
          "output_type": "stream",
          "text": [
            "Terraform v0.12.2\n",
            "\n"
          ],
          "name": "stdout"
        }
      ]
    },
    {
      "cell_type": "code",
      "metadata": {
        "id": "V6ddWusE6QcJ",
        "colab_type": "code",
        "cellView": "both",
        "outputId": "cad93477-3126-4a53-b568-3c8aac4dd21c",
        "colab": {
          "base_uri": "https://localhost:8080/",
          "height": 34
        }
      },
      "source": [
        "#@title Clone Sample Code\n",
        "#@markdown `git clone https://github.com/logicalisuki/ubiq-training.git samples`\n",
        "%%bash\n",
        "rm -rf samples\n",
        "git clone https://github.com/logicalisuki/ubiq-training.git samples\n"
      ],
      "execution_count": 0,
      "outputs": [
        {
          "output_type": "stream",
          "text": [
            "Cloning into 'samples'...\n"
          ],
          "name": "stderr"
        }
      ]
    },
    {
      "cell_type": "markdown",
      "metadata": {
        "id": "PfTahG4jA7-m",
        "colab_type": "text"
      },
      "source": [
        "#DEMO: Hello Terraform"
      ]
    },
    {
      "cell_type": "code",
      "metadata": {
        "id": "P93IYhxoAlIP",
        "colab_type": "code",
        "cellView": "form",
        "outputId": "2fafb8aa-a7bb-4c09-9a3b-957dc190ebc0",
        "colab": {
          "base_uri": "https://localhost:8080/",
          "height": 121
        }
      },
      "source": [
        "#@title Demo\n",
        "#@markdown ```\n",
        "#@markdown cd samples/terraform/hello_terraform\n",
        "#@markdown terraform apply\n",
        "#@markdown ```\n",
        "%%bash\n",
        "cd samples/terraform/hello_terraform\n",
        "terraform apply\n"
      ],
      "execution_count": 0,
      "outputs": [
        {
          "output_type": "stream",
          "text": [
            "\u001b[0m\u001b[1m\u001b[32m\n",
            "Apply complete! Resources: 0 added, 0 changed, 0 destroyed.\u001b[0m\n",
            "\u001b[0m\u001b[1m\u001b[32m\n",
            "Outputs:\n",
            "\n",
            "greeting = Hello Terraform.\u001b[0m\n"
          ],
          "name": "stdout"
        }
      ]
    },
    {
      "cell_type": "markdown",
      "metadata": {
        "id": "kkPhFEXGRqQZ",
        "colab_type": "text"
      },
      "source": [
        "#Infrastructure as Code\n",
        "\n",
        "##What is IaC?\n",
        "\n",
        "    Infrastructure as code (IaC) is the process of managing and provisioning infrastructure through machine-readable definition files, rather than physical hardware configuration or interactive configuration tools.[^1]\n",
        "    \n",
        "\n",
        "[^1]Andreas; Wittig, Michael (2016). Amazon Web Services in Action. Manning Press. p. 93"
      ]
    },
    {
      "cell_type": "markdown",
      "metadata": {
        "id": "XiiVdNM-bk91",
        "colab_type": "text"
      },
      "source": [
        "##Terms\n",
        "1. Immutable vs. Mutable\n",
        "2. Declarative vs. Procedural\n",
        "3. Config Management vs. Orchestration"
      ]
    },
    {
      "cell_type": "markdown",
      "metadata": {
        "id": "f8zBMRsQbhGL",
        "colab_type": "text"
      },
      "source": [
        "##Product Landscape\n",
        "\n",
        "|  | Chef | Puppet | Ansible | CloudFormation | Pulumi | Terraform |\n",
        "|----------------|-------------------|-------------------|-------------------|----------------|---------------|---------------|\n",
        "| Code | Open Source | Open Source | Open Source | Proprietary | Open Source | Open Source |\n",
        "| Cloud | All | All | All | AWS | All | All |\n",
        "| Type | Config Management | Config Management | Config Management | Orchestration | Orchestration | Orchestration |\n",
        "| Infrastructure | Mutable | Mutable | Mutable | Immutable | Immutable | Immutable |\n",
        "| Language | Procedural | Declarative | Procedural | Declarative | Procedural? | Declarative |\n",
        "| Architecture | Client/Server | Client/Server | Client | Client | Client | Client |"
      ]
    },
    {
      "cell_type": "markdown",
      "metadata": {
        "id": "oJvlAyvFbw6S",
        "colab_type": "text"
      },
      "source": [
        "##Why IaC?\n",
        "1. Trackable\n",
        "2. Repeatable\n",
        "3. Testable"
      ]
    }
  ]
}
