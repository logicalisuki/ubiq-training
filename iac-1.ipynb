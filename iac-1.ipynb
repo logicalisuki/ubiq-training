{
  "cells": [
    {
      "attachments": {},
      "cell_type": "markdown",
      "metadata": {
        "colab_type": "text",
        "id": "QiMbwRZc41uE"
      },
      "source": [
        "# Introducing Infrastructure As Code With Terraform and Ansible\n",
        "\n",
        "Instructor:\n",
        "\n",
        "    Chris Coates\n",
        "    Logicalis UKI\n",
        "    chris.coates@uk.logicalis.com"
      ]
    },
    {
      "cell_type": "code",
      "execution_count": null,
      "metadata": {
        "cellView": "form",
        "colab": {
          "base_uri": "https://localhost:8080/",
          "height": 52
        },
        "colab_type": "code",
        "id": "AMTagT7M5Aeu",
        "outputId": "07e1c688-fe41-4304-9d07-0a5fb0d8217e"
      },
      "outputs": [],
      "source": [
        "%%bash\n",
        "curl -so terraform.zip https://releases.hashicorp.com/terraform/1.5.2/terraform_1.5.2_linux_amd64.zip\n",
        "unzip terraform.zip > /dev/null && rm -f terraform.zip > /dev/null\n",
        "mv terraform /usr/local/bin > /dev/null\n",
        "terraform --version"
      ]
    },
    {
      "attachments": {},
      "cell_type": "markdown",
      "metadata": {
        "colab_type": "text",
        "id": "PfTahG4jA7-m"
      },
      "source": [
        "## DEMO: Hello Terraform"
      ]
    },
    {
      "cell_type": "code",
      "execution_count": null,
      "metadata": {
        "cellView": "form",
        "colab": {
          "base_uri": "https://localhost:8080/",
          "height": 121
        },
        "colab_type": "code",
        "id": "P93IYhxoAlIP",
        "outputId": "2fafb8aa-a7bb-4c09-9a3b-957dc190ebc0"
      },
      "outputs": [],
      "source": [
        "%%bash\n",
        "cd hello_terraform\n",
        "terraform plan\n"
      ]
    },
    {
      "attachments": {},
      "cell_type": "markdown",
      "metadata": {
        "colab_type": "text",
        "id": "kkPhFEXGRqQZ"
      },
      "source": [
        "## Infrastructure as Code\n",
        "\n",
        "### What is IaC?\n",
        "\n",
        "    Infrastructure as code (IaC) is the process of managing and provisioning infrastructure through machine-readable definition files, rather than physical hardware configuration or interactive configuration tools.[^1]\n",
        "    \n",
        "\n",
        "[^1]Andreas; Wittig, Michael (2016). Amazon Web Services in Action. Manning Press. p. 93"
      ]
    },
    {
      "attachments": {},
      "cell_type": "markdown",
      "metadata": {
        "colab_type": "text",
        "id": "XiiVdNM-bk91"
      },
      "source": [
        "### Terms\n",
        "1. Immutable vs. Mutable\n",
        "2. Declarative vs. Procedural\n",
        "3. Config Management vs. Orchestration"
      ]
    },
    {
      "attachments": {},
      "cell_type": "markdown",
      "metadata": {
        "colab_type": "text",
        "id": "f8zBMRsQbhGL"
      },
      "source": [
        "### Product Landscape\n",
        "\n",
        "|  | Chef | Puppet | Ansible | CloudFormation | Pulumi | Terraform |\n",
        "|----------------|-------------------|-------------------|-------------------|----------------|---------------|---------------|\n",
        "| Code | Open Source | Open Source | Open Source | Proprietary | Open Source | Open Source |\n",
        "| Cloud | All | All | All | AWS | All | All |\n",
        "| Type | Config Management | Config Management | Config Management | Orchestration | Orchestration | Orchestration |\n",
        "| Infrastructure | Mutable | Mutable | Mutable | Immutable | Immutable | Immutable |\n",
        "| Language | Procedural | Declarative | Procedural | Declarative | Procedural? | Declarative |\n",
        "| Architecture | Client/Server | Client/Server | Client | Client | Client | Client |"
      ]
    },
    {
      "attachments": {},
      "cell_type": "markdown",
      "metadata": {
        "colab_type": "text",
        "id": "oJvlAyvFbw6S"
      },
      "source": [
        "## Why IaC?\n",
        "1. Trackable\n",
        "2. Repeatable\n",
        "3. Testable"
      ]
    },
    {
      "attachments": {},
      "cell_type": "markdown",
      "metadata": {},
      "source": [
        "Let's look at the next steps and dig into both Terraform and Ansible:\n",
        "\n",
        "1. [Terraform](terraform/README.ipynb)\n",
        "2. [Ansible](ansible/HelloWorld.ipynb)"
      ]
    }
  ],
  "metadata": {
    "language_info": {
      "name": "python"
    }
  },
  "nbformat": 4,
  "nbformat_minor": 0
}
