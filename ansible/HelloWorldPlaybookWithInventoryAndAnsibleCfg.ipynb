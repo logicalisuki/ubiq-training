{
 "cells": [
  {
   "attachments": {},
   "cell_type": "markdown",
   "metadata": {},
   "source": [
    "# Hello World Playbook With Inventory and Ansible.cfg\n",
    "* Defines an ansible.cfg \n",
    "* Defines an inventory\n",
    "* Defines a play\n",
    "* Defines a task\n",
    "\n",
    "* Press shift-enter four times to run the play and task"
   ]
  },
  {
   "cell_type": "code",
   "execution_count": 1,
   "metadata": {},
   "outputs": [],
   "source": [
    "#ansible.cfg\n",
    "[defaults]\n",
    "host_key_checking=False"
   ]
  },
  {
   "cell_type": "code",
   "execution_count": 2,
   "metadata": {},
   "outputs": [],
   "source": [
    "#inventory\n",
    "[all]\n",
    "localhost ansible_connection=local"
   ]
  },
  {
   "cell_type": "code",
   "execution_count": null,
   "metadata": {},
   "outputs": [],
   "source": [
    "#play\n",
    "name: hello world\n",
    "hosts: localhost\n",
    "gather_facts: false"
   ]
  },
  {
   "cell_type": "code",
   "execution_count": null,
   "metadata": {},
   "outputs": [],
   "source": [
    "#task\n",
    "debug:\n",
    " msg: Hello World"
   ]
  },
  {
   "cell_type": "code",
   "execution_count": null,
   "metadata": {},
   "outputs": [],
   "source": [
    "ping:"
   ]
  },
  {
   "attachments": {},
   "cell_type": "markdown",
   "metadata": {},
   "source": [
    "Defining variables in ansible.cfg or in hostvars is a powerful way of overriding variables in playbooks.  This is useful for defining variables that are specific to a host or group of hosts.  This is also useful for defining variables that are sensitive and should not be stored in a playbook.\n",
    "\n",
    "Let's look at a playbook that uses variables defined in a vars file now.\n",
    "\n",
    "[< Previous](HelloWorldPlaybookWithInventory.ipynb) | [Home](../terraform/README.ipynb) | [Next >](HelloWorldPlaybookWithVarsFile.ipynb)"
   ]
  }
 ],
 "metadata": {
  "kernelspec": {
   "display_name": "Ansible",
   "language": "ansible",
   "name": "ansible"
  },
  "language_info": {
   "codemirror_mode": "yaml",
   "file_extension": ".yml",
   "mimetype": "text/yaml",
   "name": "ansible"
  }
 },
 "nbformat": 4,
 "nbformat_minor": 2
}
