{
 "cells": [
  {
   "attachments": {},
   "cell_type": "markdown",
   "metadata": {},
   "source": [
    "# Hello World for Ansible Jupyter Kernel\n",
    "\n",
    "Runs a task using Ansible.\n",
    "\n",
    "Press shift-enter to run the task.\n",
    "\n",
    "Add a `?` and press shift-enter after a module name to bring up the ansible-doc in the pager."
   ]
  },
  {
   "cell_type": "code",
   "execution_count": null,
   "metadata": {},
   "outputs": [],
   "source": [
    "debug:"
   ]
  },
  {
   "cell_type": "code",
   "execution_count": 19,
   "metadata": {},
   "outputs": [],
   "source": [
    "ping?"
   ]
  },
  {
   "attachments": {},
   "cell_type": "markdown",
   "metadata": {},
   "source": [
    "As you can see, we can look at documentation using the ansible kernel to help us rapidly develop playbooks.\n",
    "\n",
    "Next we will look at how to use the ansible kernel to develop playbooks.\n",
    "\n",
    "[< Previous](HelloWorldAnsibleJupyterWidgets.ipynb) | [Home](../terraform/README.ipynb) | [Next >](HelloWorldPlaybook.ipynb)"
   ]
  }
 ],
 "metadata": {
  "kernelspec": {
   "display_name": "Ansible",
   "language": "ansible",
   "name": "ansible"
  },
  "language_info": {
   "codemirror_mode": "yaml",
   "file_extension": ".yml",
   "mimetype": "text/yaml",
   "name": "ansible"
  }
 },
 "nbformat": 4,
 "nbformat_minor": 2
}
