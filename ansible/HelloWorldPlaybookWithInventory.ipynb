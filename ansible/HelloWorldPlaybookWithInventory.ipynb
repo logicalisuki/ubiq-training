{
 "cells": [
  {
   "attachments": {},
   "cell_type": "markdown",
   "metadata": {},
   "source": [
    "# Hello World Playbook With Inventory for Ansible Jupyter Kernel\n",
    "\n",
    "* Defines an inventory\n",
    "* Defines a play\n",
    "* Defines a task\n",
    "\n",
    "* Press shift-enter three times to run the play and the task"
   ]
  },
  {
   "cell_type": "code",
   "execution_count": 1,
   "metadata": {},
   "outputs": [],
   "source": [
    "#inventory\n",
    "[all]\n",
    "localhost"
   ]
  },
  {
   "cell_type": "code",
   "execution_count": null,
   "metadata": {},
   "outputs": [],
   "source": [
    "#play\n",
    "name: hello world\n",
    "hosts: localhost\n",
    "gather_facts: false"
   ]
  },
  {
   "cell_type": "code",
   "execution_count": null,
   "metadata": {},
   "outputs": [],
   "source": [
    "#task\n",
    "debug:"
   ]
  },
  {
   "attachments": {},
   "cell_type": "markdown",
   "metadata": {},
   "source": [
    "As you can see, inventory files defined in the same directory as the notebook are automatically loaded. But this also gives you an idea of how inventories can be defined.\n",
    "\n",
    "Let's look at how ansible.cfg is used to define variables for the environment.\n",
    "\n",
    "[< Previous](HelloWorldPlaybook.ipynb) | [Home](../terraform/README.ipynb) | [Next >](HelloWorldPlaybookWithInventoryAndAnsibleCfg.ipynb)"
   ]
  }
 ],
 "metadata": {
  "kernelspec": {
   "display_name": "Ansible",
   "language": "ansible",
   "name": "ansible"
  },
  "language_info": {
   "codemirror_mode": "yaml",
   "file_extension": ".yml",
   "mimetype": "text/yaml",
   "name": "ansible"
  }
 },
 "nbformat": 4,
 "nbformat_minor": 2
}
