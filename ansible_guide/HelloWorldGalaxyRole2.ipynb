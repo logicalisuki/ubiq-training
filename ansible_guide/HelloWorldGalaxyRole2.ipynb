{
 "cells": [
  {
   "attachments": {},
   "cell_type": "markdown",
   "metadata": {},
   "source": [
    "# Installs a role from galaxy and includes the role in the roles list\n"
   ]
  },
  {
   "cell_type": "code",
   "execution_count": null,
   "metadata": {},
   "outputs": [],
   "source": [
    "#play\n",
    "hosts: localhost\n",
    "gather_facts: false\n",
    "roles:\n",
    "   - benthomasson.hello_role"
   ]
  },
  {
   "cell_type": "code",
   "execution_count": null,
   "metadata": {},
   "outputs": [],
   "source": []
  },
  {
   "attachments": {},
   "cell_type": "markdown",
   "metadata": {},
   "source": [
    "This way of calling is via a list of roles in the playbook. The roles are executed in the order they are listed.\n",
    "\n",
    "Let's look at instead of executing the role, we can include a role as a task in a playbook.\n",
    "\n",
    "[< Previous](HelloWorldGalaxyRole.ipynb) | [Home](../terraform_guide/README.ipynb) | [Next >](HelloWorldIncludeRole.ipynb)"
   ]
  }
 ],
 "metadata": {
  "kernelspec": {
   "display_name": "Ansible",
   "language": "ansible",
   "name": "ansible"
  },
  "language_info": {
   "codemirror_mode": "yaml",
   "file_extension": ".yml",
   "mimetype": "text/yaml",
   "name": "ansible"
  }
 },
 "nbformat": 4,
 "nbformat_minor": 2
}
