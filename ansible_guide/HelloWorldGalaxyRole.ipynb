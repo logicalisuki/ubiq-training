{
 "cells": [
  {
   "attachments": {},
   "cell_type": "markdown",
   "metadata": {},
   "source": [
    "# Installs a galaxy role and includes the role using the include_role module\n",
    "\n",
    "* This example includes the hello role in the playbook using include_role"
   ]
  },
  {
   "cell_type": "code",
   "execution_count": null,
   "metadata": {},
   "outputs": [],
   "source": [
    "#play\n",
    "hosts: localhost\n",
    "gather_facts: false"
   ]
  },
  {
   "cell_type": "code",
   "execution_count": null,
   "metadata": {},
   "outputs": [],
   "source": [
    "include_role:\n",
    "    name: benthomasson.hello_role\n"
   ]
  },
  {
   "cell_type": "code",
   "execution_count": null,
   "metadata": {},
   "outputs": [],
   "source": []
  },
  {
   "attachments": {},
   "cell_type": "markdown",
   "metadata": {},
   "source": [
    "As you can see, Galaxy roles are very easy to use. You can also use the ansible-galaxy command to install roles from GitHub or other sources. For more information on using Galaxy roles, see the Ansible Galaxy documentation.\n",
    "\n",
    "Let's look at a different method of calling roles.\n",
    "\n",
    "[< Previous](HelloWorldPlaybookWithTemplate.ipynb) | [Home](../terraform_guide/README.ipynb) | [Next >](HelloWorldGalaxyRole2.ipynb)"
   ]
  }
 ],
 "metadata": {
  "kernelspec": {
   "display_name": "Ansible",
   "language": "ansible",
   "name": "ansible"
  },
  "language_info": {
   "codemirror_mode": "yaml",
   "file_extension": ".yml",
   "mimetype": "text/yaml",
   "name": "ansible"
  }
 },
 "nbformat": 4,
 "nbformat_minor": 2
}
