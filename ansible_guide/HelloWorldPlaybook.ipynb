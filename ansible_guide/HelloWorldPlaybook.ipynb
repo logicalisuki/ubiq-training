{
 "cells": [
  {
   "attachments": {},
   "cell_type": "markdown",
   "metadata": {},
   "source": [
    "# Hello World for Ansible Jupyter Notebook\n",
    "\n",
    "* Runs a playbook with a single task\n",
    "* Press shift-enter twice to run the play and the task"
   ]
  },
  {
   "cell_type": "code",
   "execution_count": 1,
   "metadata": {},
   "outputs": [
    {
     "name": "stdout",
     "output_type": "stream",
     "text": [
      "\n"
     ]
    }
   ],
   "source": [
    "#play\n",
    "name: hello world\n",
    "hosts: localhost\n",
    "gather_facts: false"
   ]
  },
  {
   "cell_type": "code",
   "execution_count": 2,
   "metadata": {},
   "outputs": [
    {
     "name": "stdout",
     "output_type": "stream",
     "text": [
      "TASK [debug] *******************************************************************\n",
      "ok: [localhost] => {\n",
      "    \"msg\": \"Hello world!\"\n",
      "}\n"
     ]
    }
   ],
   "source": [
    "#task\n",
    "debug:"
   ]
  },
  {
   "cell_type": "code",
   "execution_count": 1,
   "metadata": {},
   "outputs": [
    {
     "name": "stdout",
     "output_type": "stream",
     "text": [
      "TASK [ping] ********************************************************************\n",
      "ok: [localhost] => {\"ping\": \"pong\"}\n"
     ]
    }
   ],
   "source": [
    "#task\n",
    "ping:"
   ]
  },
  {
   "attachments": {},
   "cell_type": "markdown",
   "metadata": {},
   "source": [
    "Let's dig into this a bit more and explain how to add nodes via an inventory.\n",
    "\n",
    "[< Previous](HelloWorldDocumentation.ipynb) | [Home](../terraform_guide/README.ipynb) | [Next >](HelloWorldPlaybookWithInventory.ipynb)"
   ]
  }
 ],
 "metadata": {
  "kernelspec": {
   "display_name": "Ansible",
   "language": "ansible",
   "name": "ansible"
  },
  "language_info": {
   "codemirror_mode": "yaml",
   "file_extension": ".yml",
   "mimetype": "text/yaml",
   "name": "ansible"
  }
 },
 "nbformat": 4,
 "nbformat_minor": 2
}
