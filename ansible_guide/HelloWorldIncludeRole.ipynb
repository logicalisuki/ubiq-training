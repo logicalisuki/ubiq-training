{
 "cells": [
  {
   "attachments": {},
   "cell_type": "markdown",
   "metadata": {},
   "source": [
    "# Includes a role using the include_role module\n",
    "\n",
    "* This example includes the hello role in the playbook using include_role\n",
    "* The 'hello' role is defined in the roles/hello directory\n",
    "* Make sure to run jupyter notebook from the notebooks directory for the roles_path to be set correctly"
   ]
  },
  {
   "cell_type": "code",
   "execution_count": 4,
   "metadata": {},
   "outputs": [],
   "source": [
    "#ansible.cfg\n",
    "[defaults]\n",
    "roles_path=roles"
   ]
  },
  {
   "cell_type": "code",
   "execution_count": null,
   "metadata": {},
   "outputs": [],
   "source": [
    "#play\n",
    "hosts: localhost\n",
    "gather_facts: false"
   ]
  },
  {
   "cell_type": "code",
   "execution_count": null,
   "metadata": {},
   "outputs": [],
   "source": [
    "include_role:\n",
    "    name: hello\n"
   ]
  },
  {
   "cell_type": "code",
   "execution_count": null,
   "metadata": {},
   "outputs": [],
   "source": []
  },
  {
   "attachments": {},
   "cell_type": "markdown",
   "metadata": {},
   "source": [
    "As you can see here, we include the tasks from the role hello. The role hello is located in the roles directory. The roles directory is located in the same directory as the playbook.\n",
    "\n",
    "Because of this, we can expand the playbook to include the tasks from the role hello.\n",
    "\n",
    "Let's look at specifying information from an ansible Vault file.\n",
    "\n",
    "[< Previous](HelloWorldGalaxyRole2.ipynb) | [Home](../terraform_guide/README.ipynb) | [Next >](HelloWorldVault.ipynb)"
   ]
  }
 ],
 "metadata": {
  "kernelspec": {
   "display_name": "Ansible",
   "language": "ansible",
   "name": "ansible"
  },
  "language_info": {
   "codemirror_mode": "yaml",
   "file_extension": ".yml",
   "mimetype": "text/yaml",
   "name": "ansible"
  }
 },
 "nbformat": 4,
 "nbformat_minor": 2
}
