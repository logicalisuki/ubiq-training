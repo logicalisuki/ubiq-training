{
 "cells": [
  {
   "attachments": {},
   "cell_type": "markdown",
   "metadata": {},
   "source": [
    "# Input Variables\n",
    "\n",
    "Input variables make your Terraform configuration more flexible by defining values that your end users can assign to customize the configuration. They provide a consistent interface to change how a given configuration behaves.\n",
    "\n",
    "Unlike variables found in programming languages, Terraform's input variables don't change values during a Terraform run such as plan, apply, or destroy. Instead, they allow users to more safely customize their infrastructure by assigning different values to the variables before execution begins, rather than editing configuration files manually.\n",
    "\n",
    "In this tutorial, you will use Terraform to deploy a web application on AWS. The supporting infrastructure includes a VPC, load balancer, and EC2 instances. You will parameterize this configuration with Terraform input variables. Finally, you will interpolate variables into strings, use variables with functions, and use variable validation.\n",
    "\n",
    "Architecture diagram: A VPC, subnets, load balancer, and EC2 instances on AWS\n",
    "\n",
    "## Prerequisites\n",
    "You can complete this tutorial using the same workflow with either Terraform OSS or Terraform Cloud.\n",
    "\n",
    "This tutorial assumes that you are familiar with the Terraform workflow. If you are new to Terraform, complete the Get Started collection first.\n",
    "\n",
    "In order to complete this tutorial, you will need the following:\n",
    "\n",
    "- Terraform v1.2+ installed locally.\n",
    "- An AWS account with local credentials configured for use with Terraform.\n",
    "\n",
    "*note* Some of the infrastructure in this tutorial may not qualify for the AWS free tier. Destroy the infrastructure at the end of the guide to avoid unnecessary charges. We are not responsible for any charges that you incur.\n",
    "\n",
    "## Create infrastructure\n",
    "Clone the Learn Terraform variables GitHub repository for this tutorial.\n",
    "\n"
   ]
  },
  {
   "cell_type": "code",
   "execution_count": null,
   "metadata": {
    "vscode": {
     "languageId": "shellscript"
    }
   },
   "outputs": [],
   "source": [
    "%%bash\n",
    "git clone https://github.com/hashicorp/learn-terraform-variables.git"
   ]
  },
  {
   "attachments": {},
   "cell_type": "markdown",
   "metadata": {},
   "source": [
    "Change to the repository directory"
   ]
  },
  {
   "cell_type": "code",
   "execution_count": null,
   "metadata": {
    "vscode": {
     "languageId": "shellscript"
    }
   },
   "outputs": [],
   "source": [
    "%%bash\n",
    "cd learn-terraform-variables"
   ]
  },
  {
   "attachments": {},
   "cell_type": "markdown",
   "metadata": {},
   "source": [
    "\n",
    "The configuration in `main.tf` defines a web application, including a VPC, load balancer, and EC2 instances.\n",
    "\n",
    "\n",
    "Initialise this configuration:\n"
   ]
  },
  {
   "cell_type": "code",
   "execution_count": null,
   "metadata": {
    "vscode": {
     "languageId": "shellscript"
    }
   },
   "outputs": [],
   "source": [
    "%%bash\n",
    "terraform init"
   ]
  },
  {
   "attachments": {},
   "cell_type": "markdown",
   "metadata": {},
   "source": [
    "Now we plan the configuration. Terraform will prompt you to enter a value for the `aws_region` variable. Enter `us-east-1`."
   ]
  },
  {
   "cell_type": "code",
   "execution_count": null,
   "metadata": {
    "vscode": {
     "languageId": "shellscript"
    }
   },
   "outputs": [],
   "source": [
    "%%bash\n",
    "terraform plan"
   ]
  },
  {
   "attachments": {},
   "cell_type": "markdown",
   "metadata": {},
   "source": [
    "Now apply the configuration. Respond to the confirmation prompt with a yes (in this example we do -auto-approve because it's a notebook, and we've already planned before) to create the example infrastructure:\n"
   ]
  },
  {
   "cell_type": "code",
   "execution_count": null,
   "metadata": {
    "vscode": {
     "languageId": "shellscript"
    }
   },
   "outputs": [],
   "source": [
    "%%bash\n",
    "terraform apply -auto-approve"
   ]
  },
  {
   "attachments": {},
   "cell_type": "markdown",
   "metadata": {},
   "source": [
    "## Parameterise your configuration\n",
    "Variable declarations can appear anywhere in your configuration files. However, we recommend putting them into a separate file called `variables.tf` to make it easier for users to understand how they can customise the configuration.\n",
    "\n",
    "To parameterise an argument with an input variable, you must first define the variable, then replace the hardcoded value with a reference to that variable in your configuration.\n",
    "\n",
    "1. Open a terminal, and navigate to your current working directory\n",
    "2. Add a block declaring a variable named aws_region to `variables.tf`.\n",
    "```terraform\n",
    "variables.tf\n",
    "Copy\n",
    "variable \"aws_region\" {\n",
    "  description = \"AWS region\"\n",
    "  type        = string\n",
    "  default     = \"us-west-2\"\n",
    "}\n",
    "```\n",
    "Variable blocks have three optional arguments.\n",
    "\n",
    "- Description: A short description to document the purpose of the variable.\n",
    "- Type: The type of data contained in the variable.\n",
    "- Default: The default value.\n",
    "\n",
    "We recommend setting a description and type for all variables, and setting a default value when practical.\n",
    "\n",
    "If you do not set a default value for a variable, you must assign a value before Terraform can apply the configuration. Terraform does not support unassigned variables. You will review some of the ways to assign values to variables later in this tutorial.\n",
    "\n",
    "Variable values must be literal values, and cannot use computed values like resource attributes, expressions, or other variables. You can refer to variables in your configuration with var.<variable_name>.\n",
    "\n",
    "Edit the provider block in `main.tf` to use the new aws_region variable.\n",
    "\n",
    "```terraform\n",
    "main.tf\n",
    " provider \"aws\" {\n",
    "-  region  = \"us-west-2\"\n",
    "+  region  = var.aws_region\n",
    " }\n",
    "```\n",
    "\n",
    "Add another declaration for the vpc_cidr_block variable to `variables.tf`.\n",
    "\n",
    "```terraform\n",
    "variable \"vpc_cidr_block\" {\n",
    "  description = \"CIDR block for VPC\"\n",
    "  type        = string\n",
    "  default     = \"10.0.0.0/16\"\n",
    "}\n",
    "```\n",
    "\n",
    "Now, replace the hard-coded value for the VPC's CIDR block with a variable in `main.tf`.\n",
    "\n",
    "```terraform\n",
    "main.tf\n",
    " module \"vpc\" {\n",
    "   source  = \"terraform-aws-modules/vpc/aws\"\n",
    "   version = \"2.66.0\"\n",
    "\n",
    "-  cidr = \"10.0.0.0/16\"\n",
    "+  cidr = var.vpc_cidr_block\n",
    "   ## ...\n",
    " }\n",
    "```\n",
    "\n",
    "Apply the updated configuration. Since the default values of these variables are the same as the hard-coded values they replaced, there will be no changes.\n"
   ]
  },
  {
   "cell_type": "code",
   "execution_count": null,
   "metadata": {
    "vscode": {
     "languageId": "shellscript"
    }
   },
   "outputs": [],
   "source": [
    "terraform plan"
   ]
  },
  {
   "attachments": {},
   "cell_type": "markdown",
   "metadata": {},
   "source": [
    "\n",
    "Use a number type to define the number of instances supported by this configuration. Add the following to `variables.tf`.\n",
    "\n",
    "```terraform\n",
    "variables.tf\n",
    "Copy\n",
    "variable \"instance_count\" {\n",
    "  description = \"Number of instances to provision.\"\n",
    "  type        = number\n",
    "  default     = 2\n",
    "}\n",
    "```\n",
    "\n",
    "Update EC2 instances to use the instance_count variable in `main.tf`.\n",
    "\n",
    "```terraform\n",
    "main.tf\n",
    " module \"ec2_instances\" {\n",
    "   source = \"./modules/aws-instance\"\n",
    "\n",
    "-  instance_count = 2\n",
    "+  instance_count = var.instance_count\n",
    "   ## ...\n",
    " }\n",
    "```\n",
    "\n",
    "When Terraform interprets values, either hard-coded or from variables, it will convert them into the correct type if possible. So the instance_count variable would also work using a string (\"2\") instead of a number (2). We recommend using the most appropriate type in variable definitions to helps users of your configuration know the appropriate data type to use, as well as to catch configuration errors early.\n",
    "\n",
    "## Toggle VPN gateway support\n",
    "In addition to strings and numbers, Terraform supports several other variable types. A variable with type bool represents true/false values.\n",
    "\n",
    "Use a bool type variable to control whether to configure a VPN gateway for your VPC. Add the following to `variables.tf`.\n",
    "\n",
    "```terraform\n",
    "variable \"enable_vpn_gateway\" {\n",
    "  description = \"Enable a VPN gateway in your VPC.\"\n",
    "  type        = bool\n",
    "  default     = false\n",
    "}\n",
    "```\n",
    "\n",
    "Use this new variable in your VPC configuration by editing main.tf as follows.\n",
    "\n",
    "```terraform\n",
    " module \"vpc\" {\n",
    "   source  = \"terraform-aws-modules/vpc/aws\"\n",
    "   version = \"2.44.0\"\n",
    "\n",
    "   ## ...\n",
    "\n",
    "   enable_nat_gateway = true\n",
    "-  enable_vpn_gateway = false\n",
    "+  enable_vpn_gateway = var.enable_vpn_gateway\n",
    "   ## ...\n",
    " }\n",
    "```\n",
    "\n",
    "Leave the value for enable_nat_gateway hard-coded. In any configuration, there may be some values that you want to let users configure with variables and others you wish to hard-code.\n",
    "\n",
    "When developing Terraform modules, you will often use variables to make the module's attributes configurable, to make the module more flexible.\n",
    "\n",
    "In contrast, when writing Terraform configuration for a specific project, you may choose to hard-code attributes if you do not want to let users configure them.\n",
    "\n",
    "## List public and private subnets\n",
    "The variables you have used so far have all been single values. Terraform calls these types of variables simple. Terraform also supports collection variable types that contain more than one value. Terraform supports several collection variable types.\n",
    "\n",
    "- List: A sequence of values of the same type.\n",
    "- Map: A lookup table, matching keys to values, all of the same type.\n",
    "- Set: An unordered collection of unique values, all of the same type.\n",
    "\n",
    "In this tutorial, you will use lists and a map, which are the most commonly used of these types. Sets are useful when you need a unique collection of values is needed, and the order of the items in the collection does not matter.\n",
    "\n",
    "A likely place to use list variables is when setting the private_subnets and public_subnets arguments for the VPC. Make this configuration easier to use and customisable by using lists and the slice() function.\n",
    "\n",
    "Add the following variable declarations to `variables.tf`.\n",
    "\n",
    "```terraform\n",
    "variable \"public_subnet_count\" {\n",
    "  description = \"Number of public subnets.\"\n",
    "  type        = number\n",
    "  default     = 2\n",
    "}\n",
    "\n",
    "variable \"private_subnet_count\" {\n",
    "  description = \"Number of private subnets.\"\n",
    "  type        = number\n",
    "  default     = 2\n",
    "}\n",
    "\n",
    "variable \"public_subnet_cidr_blocks\" {\n",
    "  description = \"Available cidr blocks for public subnets.\"\n",
    "  type        = list(string)\n",
    "  default     = [\n",
    "    \"10.0.1.0/24\",\n",
    "    \"10.0.2.0/24\",\n",
    "    \"10.0.3.0/24\",\n",
    "    \"10.0.4.0/24\",\n",
    "    \"10.0.5.0/24\",\n",
    "    \"10.0.6.0/24\",\n",
    "    \"10.0.7.0/24\",\n",
    "    \"10.0.8.0/24\",\n",
    "  ]\n",
    "}\n",
    "\n",
    "variable \"private_subnet_cidr_blocks\" {\n",
    "  description = \"Available cidr blocks for private subnets.\"\n",
    "  type        = list(string)\n",
    "  default     = [\n",
    "    \"10.0.101.0/24\",\n",
    "    \"10.0.102.0/24\",\n",
    "    \"10.0.103.0/24\",\n",
    "    \"10.0.104.0/24\",\n",
    "    \"10.0.105.0/24\",\n",
    "    \"10.0.106.0/24\",\n",
    "    \"10.0.107.0/24\",\n",
    "    \"10.0.108.0/24\",\n",
    "  ]\n",
    "}\n",
    "```\n",
    "\n",
    "Notice that the type for the list variables is list(string). Each element in these lists must be a string. List elements must all be the same type, but can be any type, including complex types like list(list) and list(map).\n",
    "\n",
    "Like lists and arrays used in most programming languages, you can refer to individual items in a list by index, starting with 0. Terraform also includes several functions that allow you to manipulate lists and other variable types.\n",
    "\n",
    "Use the slice() function to get a subset of these lists.\n",
    "\n",
    "The Terraform console command opens an interactive console that you can use to evaluate expressions in the context of your configuration. This can be very useful when working with and troubleshooting variable definitions.\n",
    "\n",
    "Open a console with the terraform console command.\n",
    "\n",
    "```\n",
    " terraform console\n",
    "```\n",
    "\n",
    "Now use the Terraform console to inspect the list of private subnet blocks.\n",
    "\n",
    "Refer to the variable by name to return the entire list.\n",
    "\n",
    "```\n",
    "> var.private_subnet_cidr_blocks\n",
    "tolist([\n",
    "  \"10.0.101.0/24\",\n",
    "  \"10.0.102.0/24\",\n",
    "  \"10.0.103.0/24\",\n",
    "  \"10.0.104.0/24\",\n",
    "  \"10.0.105.0/24\",\n",
    "  \"10.0.106.0/24\",\n",
    "  \"10.0.107.0/24\",\n",
    "  \"10.0.108.0/24\",\n",
    "])\n",
    "```\n",
    "\n",
    "Retrieve the second element from the list by index with square brackets.\n",
    "\n",
    "```\n",
    "> var.private_subnet_cidr_blocks[1]\n",
    "\"10.0.102.0/24\"\n",
    "```\n",
    "\n",
    "Now use the slice() function to return the first three elements from the list.\n",
    "\n",
    "```\n",
    "> slice(var.private_subnet_cidr_blocks, 0, 3)\n",
    "tolist([\n",
    "  \"10.0.101.0/24\",\n",
    "  \"10.0.102.0/24\",\n",
    "  \"10.0.103.0/24\",\n",
    "])\n",
    "```\n",
    "\n",
    "The slice() function takes three arguments: the list to slice, the start index, and the end index (exclusive). It returns a new list with the specified elements copied (\"sliced\") from the original list.\n",
    "\n",
    "Leave the console by typing exit or pressing Control-D.\n",
    "\n",
    "```\n",
    "> exit\n",
    "```\n",
    "\n",
    "Now update the VPC module configuration in `main.tf` to use the slice function to extract a subset of the CIDR block lists for your public and private subnet configuration.\n",
    "\n",
    "```terraform\n",
    "main.tf\n",
    " module \"vpc\" {\n",
    "   source  = \"terraform-aws-modules/vpc/aws\"\n",
    "   version = \"2.44.0\"\n",
    "\n",
    "   cidr = \"10.0.0.0/16\"\n",
    "\n",
    "   azs             = data.aws_availability_zones.available.names\n",
    "-  private_subnets = [\"10.0.101.0/24\", \"10.0.102.0/24\"]\n",
    "-  public_subnets  = [\"10.0.1.0/24\", \"10.0.2.0/24\"]\n",
    "+  private_subnets = slice(var.private_subnet_cidr_blocks, 0, var.private_subnet_count)\n",
    "+  public_subnets  = slice(var.public_subnet_cidr_blocks, 0, var.public_subnet_count)\n",
    "   ## ...\n",
    " }\n",
    "```\n",
    "\n",
    "This way, users of this configuration can specify the number of public and private subnets they want without worrying about defining CIDR blocks.\n",
    "\n",
    "## Map resource tags\n",
    "Each of the resources and modules declared in `main.tf` includes two tags: project_name and environment. Assign these tags with a map variable type.\n",
    "\n",
    "Declare a new map variable for resource tags in `variables.tf`.\n",
    "\n",
    "```terraform\n",
    "variable \"resource_tags\" {\n",
    "  description = \"Tags to set for all resources\"\n",
    "  type        = map(string)\n",
    "  default     = {\n",
    "    project     = \"project-alpha\",\n",
    "    environment = \"dev\"\n",
    "  }\n",
    "}\n",
    "```\n",
    "\n",
    "Setting the type to map(string) tells Terraform to expect strings for the values in the map. Map keys are always strings. Like dictionaries or maps from programming languages, you can retrieve values from a map with the corresponding key. See how this works with the Terraform console.\n",
    "\n",
    "Start the console.\n",
    "\n",
    "```\n",
    " terraform console\n",
    ">\n",
    "```\n",
    "\n",
    "Retrieve the value of the environment key from the resource_tags map.\n",
    "\n",
    "```\n",
    "> var.resource_tags[\"environment\"]\n",
    "\"dev\"\n",
    "```\n",
    "\n",
    "Leave the console by typing exit or pressing Control-D.\n",
    "\n",
    "```\n",
    "> exit\n",
    "```\n",
    "\n",
    "*note* The terraform console command loads your Terraform configuration only when it starts. Be sure to exit and restart the console to pick up your most recent changes.\n",
    "\n",
    "Now, replace the hard coded tags in main.tf with references to the new variable.\n",
    "  \n",
    "```terraform\n",
    "main.tf\n",
    "-  tags = {\n",
    "-    project     = \"project-alpha\",\n",
    "-    environment = \"dev\"\n",
    "-  }\n",
    "+  tags = var.resource_tags\n",
    "\n",
    "## ... replace all five occurrences of `tags = {...}`\n",
    "```\n",
    "\n",
    "Be sure to replace all five references to these hard-coded tags in your configuration.\n",
    "\n",
    "Apply these changes. Once again, Terraform does not propose any changes since the default values of your variables match the original hard-coded values.\n"
   ]
  },
  {
   "cell_type": "code",
   "execution_count": null,
   "metadata": {
    "vscode": {
     "languageId": "shellscript"
    }
   },
   "outputs": [],
   "source": [
    "%%bash\n",
    "terraform apply"
   ]
  },
  {
   "attachments": {},
   "cell_type": "markdown",
   "metadata": {},
   "source": [
    "\n",
    "## Structural types\n",
    "The lists and maps you used are collection types. Terraform also supports two structural types. Structural types have a fixed number of values that can be of different types.\n",
    "\n",
    "- Tuple: A fixed-length sequence of values of specified types.\n",
    "- Object: A lookup table, matching a fixed set of keys to values of specified types.\n",
    "\n",
    "## Assign values to variables\n",
    "Terraform requires a value for every variable. There are several ways to assign variable values.\n",
    "\n",
    "### Use command line flag\n",
    "In the examples so far, all of the variable definitions have included a default value. Add a new variable without a default value to `variables.tf`.\n",
    "\n",
    "```terraform\n",
    "variable \"ec2_instance_type\" {\n",
    "  description = \"AWS EC2 instance type.\"\n",
    "  type        = string\n",
    "}\n",
    "```\n",
    "\n",
    "Replace the reference to the EC2 instance type in `main.tf`.\n",
    "\n",
    "```terraform\n",
    " module \"ec2_instances\" {\n",
    "   source = \"./modules/aws-instance\"\n",
    "\n",
    "   instance_count = var.instance_count\n",
    "-  instance_type  = \"t2.micro\"\n",
    "+  instance_type  = var.ec2_instance_type\n",
    "   ## ...\n",
    " }\n",
    "```\n",
    "\n",
    "Apply this configuration now, using the -var command line flag to set the variable value. Since the value you entered is the same as the old value, there will be no changes to apply.\n"
   ]
  },
  {
   "cell_type": "code",
   "execution_count": null,
   "metadata": {
    "vscode": {
     "languageId": "shellscript"
    }
   },
   "outputs": [],
   "source": [
    "%%bash\n",
    "terraform apply -var ec2_instance_type=t2.micro"
   ]
  },
  {
   "attachments": {},
   "cell_type": "markdown",
   "metadata": {},
   "source": [
    "\n",
    "## Assign values with environment variables\n",
    "When using Terraform OSS, Terraform will prompt you for a value if you do not set it in the configuration or pass one to the Terraform command.\n",
    "\n",
    "## Assign values with a file\n",
    "Entering variable values manually is time consuming and error prone. Instead, you can capture variable values in a file.\n",
    "\n",
    "\n",
    "Create a file named `terraform.tfvars` with the following contents.\n",
    "\n",
    "\n",
    "```terraform\n",
    "resource_tags = {\n",
    "  project     = \"project-alpha\",\n",
    "  environment = \"dev\",\n",
    "  owner       = \"me@example.com\"\n",
    "}\n",
    "\n",
    "ec2_instance_type = \"t3.micro\"\n",
    "\n",
    "instance_count = 3\n",
    "```\n",
    "\n",
    "Terraform automatically loads all files in the current directory with the exact name terraform.tfvars or matching *.auto.tfvars. You can also use the -var-file flag to specify other files by name.\n",
    "\n",
    "These files use syntax similar to Terraform configuration files (HCL), but they cannot contain configuration such as resource definitions. Like Terraform configuration files, these files can also contain JSON.\n",
    "\n",
    "Apply the configuration with these new values.\n"
   ]
  },
  {
   "cell_type": "code",
   "execution_count": null,
   "metadata": {
    "vscode": {
     "languageId": "shellscript"
    }
   },
   "outputs": [],
   "source": [
    "terraform apply -auto-approve"
   ]
  },
  {
   "attachments": {},
   "cell_type": "markdown",
   "metadata": {},
   "source": [
    "In addition to command line flags and variable files, you can use environment variables to set input variables. Check out the documentation for more details. If there are different values assigned for a variable through these methods, Terraform will use the last value it finds, in order of precedence.\n",
    "\n",
    "## Interpolate variables in strings\n",
    "Terraform configuration supports string interpolation — inserting the output of an expression into a string. This allows you to use variables, local values, and the output of functions to create strings in your configuration.\n",
    "\n",
    "Update the names of the security groups to use the project and environment values from the resource_tags map.\n",
    "\n",
    "```terraform\n",
    "main.tf\n",
    " module \"app_security_group\" {\n",
    "   source  = \"terraform-aws-modules/security-group/aws//modules/web\"\n",
    "   version = \"3.12.0\"\n",
    "\n",
    "-  name        = \"web-sg-project-alpha-dev\"\n",
    "+  name        = \"web-sg-${var.resource_tags[\"project\"]}-${var.resource_tags[\"environment\"]}\"\n",
    "\n",
    "   ## ...\n",
    " }\n",
    "\n",
    " module \"lb_security_group\" {\n",
    "   source  = \"terraform-aws-modules/security-group/aws//modules/web\"\n",
    "   version = \"3.12.0\"\n",
    "\n",
    "-  name        = \"lb-sg-project-alpha-dev\"\n",
    "+  name        = \"lb-sg-${var.resource_tags[\"project\"]}-${var.resource_tags[\"environment\"]}\"\n",
    "\n",
    "   ## ...\n",
    " }\n",
    "\n",
    " module \"elb_http\" {\n",
    "   source  = \"terraform-aws-modules/elb/aws\"\n",
    "   version = \"2.4.0\"\n",
    "\n",
    "   # Ensure load balancer name is unique\n",
    "-  name = \"lb-${random_string.lb_id.result}-project-alpha-dev\"\n",
    "+  name = \"lb-${random_string.lb_id.result}-${var.resource_tags[\"project\"]}-${var.resource_tags[\"environment\"]}\"\n",
    "   ## ...\n",
    " }\n",
    "```\n",
    "\n",
    "Apply the configuration to update the resource names.\n"
   ]
  },
  {
   "cell_type": "code",
   "execution_count": null,
   "metadata": {
    "vscode": {
     "languageId": "shellscript"
    }
   },
   "outputs": [],
   "source": [
    "%%bash\n",
    "terraform apply -auto-approve "
   ]
  },
  {
   "attachments": {},
   "cell_type": "markdown",
   "metadata": {},
   "source": [
    "\n",
    "## Validate variables\n",
    "This configuration has a potential problem. AWS load balancers have naming restrictions. Load balancer names must be no more than 32 characters long, and can only contain a limited set of characters.\n",
    "\n",
    "Now, use variable validation to restrict the possible values for the project and environment tags.\n",
    "\n",
    "Replace your existing resource tags variable in variables.tf with the below code snippet, which includes validation blocks to enforce character limits and character sets on both project and environment values.\n",
    "\n",
    "```terraform\n",
    "variable \"resource_tags\" {\n",
    "  description = \"Tags to set for all resources\"\n",
    "  type        = map(string)\n",
    "  default     = {\n",
    "    project     = \"my-project\",\n",
    "    environment = \"dev\"\n",
    "  }\n",
    "\n",
    "  validation {\n",
    "    condition     = length(var.resource_tags[\"project\"]) <= 16 && length(regexall(\"[^a-zA-Z0-9-]\", var.resource_tags[\"project\"])) == 0\n",
    "    error_message = \"The project tag must be no more than 16 characters, and only contain letters, numbers, and hyphens.\"\n",
    "  }\n",
    "\n",
    "  validation {\n",
    "    condition     = length(var.resource_tags[\"environment\"]) <= 8 && length(regexall(\"[^a-zA-Z0-9-]\", var.resource_tags[\"environment\"])) == 0\n",
    "    error_message = \"The environment tag must be no more than 8 characters, and only contain letters, numbers, and hyphens.\"\n",
    "  }\n",
    "}\n",
    "```\n",
    "\n",
    "The regexall() function takes a regular expression and a string to test it against, and returns a list of matches found in the string. In this case, the regular expression will match a string that contains anything other than a letter, number, or hyphen.\n",
    "\n",
    "This ensures that the length of the load balancer name does not exceed 32 characters, or contain invalid characters. Using variable validation can be a good way to catch configuration errors early.\n",
    "\n",
    "Apply this change to add validation to these two variables. There will be no changes to apply, since your infrastructure configuration has not changed.\n"
   ]
  },
  {
   "cell_type": "code",
   "execution_count": null,
   "metadata": {
    "vscode": {
     "languageId": "shellscript"
    }
   },
   "outputs": [],
   "source": [
    "%%bash\n",
    "terraform apply -auto-approve"
   ]
  },
  {
   "attachments": {},
   "cell_type": "markdown",
   "metadata": {},
   "source": [
    "Now test the validation rules by specifying an environment tag that is too long. Notice that the command will fail and return the error message specified in the validation block."
   ]
  },
  {
   "cell_type": "code",
   "execution_count": null,
   "metadata": {
    "vscode": {
     "languageId": "shellscript"
    }
   },
   "outputs": [],
   "source": [
    "%%bash\n",
    "terraform apply -auto-approve -var='resource_tag={project=\"my-procject\",environment=\"development\"}'"
   ]
  },
  {
   "attachments": {},
   "cell_type": "markdown",
   "metadata": {},
   "source": [
    "\n",
    "\n",
    "As you can see, this was checked by the validation rule at variables.tf:82,3-13.\n",
    "\n",
    "\n",
    "## Clean up your infrastructure\n",
    "Before moving on, destroy the infrastructure you created by running the terraform destroy command. Remember to confirm the operation with a yes normally, but in this scenario -auto-approve is used to skip the prompt.\n"
   ]
  },
  {
   "cell_type": "code",
   "execution_count": null,
   "metadata": {
    "vscode": {
     "languageId": "shellscript"
    }
   },
   "outputs": [],
   "source": [
    "%%bash\n",
    "terraform destroy -auto-approve"
   ]
  },
  {
   "attachments": {},
   "cell_type": "markdown",
   "metadata": {},
   "source": [
    "If you used Terraform Cloud for this tutorial, after destroying your resources, delete the workspace-name workspace from your Terraform Cloud organisation.\n",
    "\n",
    "## Next steps\n",
    "In this tutorial, you defined and used Terraform variables. Adding variables to your configuration makes it easier to modify over its lifecycle. Variables also make it easier to re-use configuration for other projects, or turn it into a module. It can also make your configuration more generic, letting you save project-specific configuration in the variables file.\n",
    "\n",
    "Review the following resources to learn more about variables and how to make your Terraform configuration more flexible.\n",
    "\n",
    "[Read the Input variables documentation](https://developer.hashicorp.com/terraform/language/values/variables)\n",
    "\n",
    "[Read the Local variables documentation](https://developer.hashicorp.com/terraform/language/values/locals)\n",
    "\n",
    "[Learn how to create and use Terraform modules](https://developer.hashicorp.com/terraform/tutorials/modules/module)\n",
    "\n",
    "[Learn how to validate modules with custom conditions](https://developer.hashicorp.com/terraform/tutorials/configuration-language/custom-conditions)\n",
    "\n",
    "[Read more about structural types in the documentation](https://developer.hashicorp.com/terraform/language/expressions/type-constraints#structural-types)\n",
    "\n",
    "[Learn how to manage variable sets in Terraform Cloud](https://developer.hashicorp.com/terraform/tutorials/cloud/cloud-multiple-variable-sets)\n",
    "\n",
    "[< Previous](../Terraform_Resources.ipynb) | [Home](../../../README.ipynb) | [Next >](../../data_sources/Terraform_Data_Sources.ipynb)"
   ]
  }
 ],
 "metadata": {
  "language_info": {
   "name": "python"
  },
  "orig_nbformat": 4
 },
 "nbformat": 4,
 "nbformat_minor": 2
}
