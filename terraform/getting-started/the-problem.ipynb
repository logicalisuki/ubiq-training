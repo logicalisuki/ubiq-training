{
 "cells": [
  {
   "attachments": {},
   "cell_type": "markdown",
   "metadata": {},
   "source": [
    "# The problem of provisioning everything manually\n",
    "\n",
    "Whenever we have the need to setup any infrastructure we always tend to go towards the manual approach by clicking and going through the steps in the UI provided by the major public cloud provider (AWS, Azure, GCP), cloud provider (Linode, DigitalOcean etc.), DNS provider (CloudFlare, Route53, DNSimple etc.) and many such services.\n",
    "\n",
    "One way to approach this problem is to use scripts. But with that comes another set of challenges such as:\n",
    "\n",
    "- They're idiosyncratic - if I wrote a script, the other person might not be able to understand the steps being performed.\n",
    "- They're not idempotent - if I ran the script multiple times, it might not provide me the same result.\n",
    "- Compatibility issues - if I developed the script on a Linux machine, the other person who is using Windows might not be able to use the script and vice versa.\n",
    "- The scripts are only for one task. If you want to deploy something else, you need to develop them again.\n",
    "\n",
    "So, how to automate the setup process without having to deal with the hassles of developing a script? That's where the concept of Infrastructure as a Code (IaC) comes in.\n",
    "\n",
    "***\n",
    "\n",
    "[Next >](iac.ipynb) | [Home](index.ipynb)"
   ]
  }
 ],
 "metadata": {
  "language_info": {
   "name": "python"
  },
  "orig_nbformat": 4
 },
 "nbformat": 4,
 "nbformat_minor": 2
}
