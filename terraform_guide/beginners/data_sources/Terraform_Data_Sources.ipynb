{
 "cells": [
  {
   "attachments": {},
   "cell_type": "markdown",
   "metadata": {},
   "source": [
    "# Query Data Sources with Terraform\n",
    "\n",
    "## Introduction\n",
    "Terraform data sources let you dynamically fetch data from APIs or other Terraform state backends. Examples of data sources include machine image IDs from a cloud provider or Terraform outputs from other configurations. Data sources make your configuration more flexible and dynamic and let you reference values from other configurations, helping you scope your configuration while still referencing any dependent resource attributes. In Terraform Cloud, workspaces let you share data between workspaces.\n",
    "\n",
    "In this tutorial, you will use data sources to make your configuration more dynamic. First, you will use Terraform to create an AWS VPC and security groups. Next, you will use the aws_availability_zones data source to make your configuration deployable across any region. You will then deploy application infrastructure defined by a separate Terraform configuration, and use the terraform_remote_state data source to query information about your VPC. Finally, you will use the aws_ami data source to configure the correct AMI for the current region.\n",
    "\n",
    "## Prerequisites\n",
    "You can complete this tutorial using the same workflow with either Terraform OSS or Terraform Cloud. \n",
    "\n",
    "This tutorial assumes that you are familiar with the Terraform workflow. If you are new to Terraform, complete Get Started collection first.\n",
    "\n",
    "For this tutorial, you will need:\n",
    "\n",
    "- Terraform v1.2+ installed locally.\n",
    "- the AWS CLI.\n",
    "- AWS Credentials configured for use with Terraform.\n",
    "\n",
    "*note* Some of the infrastructure in this tutorial may not qualify for the AWS free tier. Destroy the infrastructure at the end of the guide to avoid unnecessary charges. We are not responsible for any charges that you incur.\n",
    "\n",
    "## Clone example repositories\n",
    "The example configuration for this tutorial is hosted in two GitHub repositories.\n",
    "\n",
    "The VPC repository contains the configuration to deploy a VPC and security groups for your application.\n",
    "\n",
    "Clone the VPC repository:\n"
   ]
  },
  {
   "cell_type": "code",
   "execution_count": null,
   "metadata": {
    "vscode": {
     "languageId": "shellscript"
    }
   },
   "outputs": [],
   "source": [
    " %%bash\n",
    " git clone https://github.com/hashicorp/learn-terraform-data-sources-vpc.git"
   ]
  },
  {
   "attachments": {},
   "cell_type": "markdown",
   "metadata": {},
   "source": [
    "The application repository contains the configuration to deploy an example application consisting of a load balancer and an EC2 instance.\n",
    "\n",
    "Clone the application repository:\n"
   ]
  },
  {
   "cell_type": "code",
   "execution_count": null,
   "metadata": {
    "vscode": {
     "languageId": "shellscript"
    }
   },
   "outputs": [],
   "source": [
    "%%bash\n",
    "git clone https://github.com/hashicorp/learn-terraform-data-sources-app.git"
   ]
  },
  {
   "attachments": {},
   "cell_type": "markdown",
   "metadata": {},
   "source": [
    "\n",
    "## Initialise VPC workspace\n",
    "Change to the VPC repository directory. To do this, you will need a shell open. If you are using JupyterLab, you can open a terminal by clicking File > New > Terminal.\n",
    "```bash\n",
    " cd learn-terraform-data-sources-vpc\n",
    "```\n",
    "\n",
    "Open your `terraform.tf` file and comment out the cloud block that configures the Terraform Cloud integration.\n",
    "\n",
    "```terraform\n",
    "terraform {\n",
    "  /*\n",
    "  cloud {\n",
    "    workspaces {\n",
    "      name = \"learn-terraform-data-sources-vpc\"\n",
    "    }\n",
    "  }\n",
    "  */\n",
    "\n",
    "  required_providers {\n",
    "    aws = {\n",
    "      source  = \"hashicorp/aws\"\n",
    "      version = \"~> 4.17.1\"\n",
    "    }\n",
    "  }\n",
    "\n",
    "  required_version = \">= 1.2\"\n",
    "}\n",
    "```\n",
    "\n",
    "Initialise your configuration:\n"
   ]
  },
  {
   "cell_type": "code",
   "execution_count": null,
   "metadata": {
    "vscode": {
     "languageId": "shellscript"
    }
   },
   "outputs": [],
   "source": [
    "%%bash\n",
    "terraform init"
   ]
  },
  {
   "attachments": {},
   "cell_type": "markdown",
   "metadata": {},
   "source": [
    "## Update VPC region\n",
    "The VPC configuration uses a variable called aws_region with a default value of us-east-1 to set the region.\n",
    "\n",
    "However, changing the value of the aws_region variable will not successfully change the region because the VPC configuration includes an azs argument to set Availability Zones, which is a hard-coded list of availability zones in the us-east-1 region. Inside the `main.tf` file, you can see the hard-coded list of availability zones in the us-east-1 region.\n",
    "\n",
    "\n",
    "```terraform\n",
    "module \"vpc\" {\n",
    "##...\n",
    "  azs             = [\"us-east-1a\", \"us-east-1b\", \"us-east-1c\", \"us-east-1d\", \"us-east-1e\"]\n",
    "##...\n",
    "}\n",
    "```\n",
    "\n",
    "Use the aws_availability_zones data source to load the available AZs for the current region. Add the following to `main.tf`.\n",
    "\n",
    "```terraform\n",
    "data \"aws_availability_zones\" \"available\" {\n",
    "  state = \"available\"\n",
    "\n",
    "  filter {\n",
    "    name   = \"zone-type\"\n",
    "    values = [\"availability-zone\"]\n",
    "  }\n",
    "}\n",
    "```\n",
    "\n",
    "The aws_availability_zones data source is part of the AWS provider and retrieves a list of availability zones based on the arguments supplied. In this case, the state argument limits the availability zones to only those that are currently available.\n",
    "\n",
    "You can reference data source attributes with the pattern data.<NAME>.<ATTRIBUTE>. Update the VPC configuration to use this data source to set the list of availability zones.\n",
    "\n",
    "```terraform\n",
    "module \"vpc\" {\n",
    "  source  = \"terraform-aws-modules/vpc/aws\"\n",
    "  version = \"3.14.0\"\n",
    "\n",
    "  cidr = var.vpc_cidr_block\n",
    "\n",
    "  azs             = data.aws_availability_zones.available.names\n",
    "  private_subnets = slice(var.private_subnet_cidr_blocks, 0, 2)\n",
    "  public_subnets  = slice(var.public_subnet_cidr_blocks, 0, 2)\n",
    "\n",
    "##...\n",
    "}\n",
    "```\n",
    "\n",
    "Configure the VPC workspace to output the region, which the application workspace will require as an input. Add a data source to main.tf to access region information.\n",
    "\n",
    "```terraform\n",
    "data \"aws_region\" \"current\" { }\n",
    "Add an output for the region to outputs.tf.\n",
    "\n",
    "learn-terraform-data-sources-vpc/outputs.tf\n",
    "Copy\n",
    "output \"aws_region\" {\n",
    "  description = \"AWS region\"\n",
    "  value       = data.aws_region.current.name\n",
    "}\n",
    "```\n",
    "\n",
    "## Create infrastructure\n",
    "Apply this configuration, setting the value of aws_region to us-west-1. Respond to the confirmation prompt with a yes.\n"
   ]
  },
  {
   "cell_type": "code",
   "execution_count": null,
   "metadata": {
    "vscode": {
     "languageId": "shellscript"
    }
   },
   "outputs": [],
   "source": [
    "%%bash\n",
    "terraform apply -var aws_region=us-wast-1 -auto-approve"
   ]
  },
  {
   "attachments": {},
   "cell_type": "markdown",
   "metadata": {},
   "source": [
    "\n",
    "\n",
    "*Tip* In this scenario, you could use the aws_region variable to define the output parameter instead of using the data source. However, there are multiple ways to configure the AWS region. Using the aws_region data source will get the AWS provider's current region no matter how it was configured.\n",
    "\n",
    "Configure Terraform remote state\n",
    "Now that you deployed your network resources, in your shell, go to the learn-terraform-data-sources-app directory.\n",
    "\n",
    "```bash\n",
    " cd ../learn-terraform-data-sources-app\n",
    "```\n",
    "\n",
    "This directory contains the Terraform configuration for your application.\n",
    "\n",
    "Open your `terraform.tf` file and comment out the cloud block that configures the Terraform Cloud integration.\n",
    "\n",
    "```terraform\n",
    "terraform {\n",
    "  /*\n",
    "  cloud {\n",
    "    workspaces {\n",
    "      name = \"learn-terraform-data-sources-app\"\n",
    "    }\n",
    "  }\n",
    "  */\n",
    "\n",
    "  required_providers {\n",
    "    aws = {\n",
    "      source  = \"hashicorp/aws\"\n",
    "      version = \"~> 4.17.1\"\n",
    "    }\n",
    "  }\n",
    "\n",
    "  required_version = \">= 1.2\"\n",
    "}\n",
    "```\n",
    "\n",
    "Initialise your configuration.\n"
   ]
  },
  {
   "cell_type": "code",
   "execution_count": null,
   "metadata": {
    "vscode": {
     "languageId": "shellscript"
    }
   },
   "outputs": [],
   "source": [
    "%%bash\n",
    "terraform init"
   ]
  },
  {
   "attachments": {},
   "cell_type": "markdown",
   "metadata": {},
   "source": [
    "Like the VPC workspace, this configuration includes hard-coded values for the us-east-1 region. You can use the terraform_remote_state data source to use another Terraform workspace's output data.\n",
    "\n",
    "Add a terraform_remote_state data source to the `main.tf` file inside the learn-terraform-data-sources-app directory, replacing YOUR_ORG with your own Terraform Cloud organisation name.\n",
    "\n",
    "```terraform\n",
    "data \"terraform_remote_state\" \"vpc\" {\n",
    "  backend = \"local\"\n",
    "\n",
    "  config = {\n",
    "    path = \"../learn-terraform-data-sources-vpc/terraform.tfstate\"\n",
    "  }\n",
    "}\n",
    "```\n",
    "\n",
    "This remote state block uses the local backend to load state data from the path in the config section. Terraform remote state also supports a remote backend type for use with remote systems, such as Terraform Cloud or Consul.\n",
    "\n",
    "Now, update your aws provider configuration in `main.tf` to use the same region as the VPC configuration instead of a hardcoded region.\n",
    "\n",
    "```terraform\n",
    "provider \"aws\" {\n",
    "  region = data.terraform_remote_state.vpc.outputs.aws_region\n",
    "}\n",
    "```\n",
    "\n",
    "The VPC configuration also included outputs for subnet and security group IDs. Configure the load balancer security group and subnet arguments for the elb module with those values.\n",
    "\n",
    "```terraform\n",
    "module \"elb_http\" {\n",
    "##...\n",
    "  security_groups = data.terraform_remote_state.vpc.outputs.lb_security_group_ids\n",
    "  subnets         = data.terraform_remote_state.vpc.outputs.public_subnet_ids\n",
    "##...\n",
    "}\n",
    "```\n",
    "\n",
    "*note* Terraform's remote state data source can only load \"root-level\" output values from the source workspace, it cannot directly access values from resources or modules in the source workspace. To retrieve those values, you must add a corresponding output to the source workspace.\n",
    "\n",
    "## Scale EC2 instances\n",
    "You can use values from data sources just like any other Terraform values, including by passing them to functions. The configuration in `learn-terraform-data-sources-app/main.tf` only uses a single EC2 instance. Update the configuration to use the instances_per_subnet variable to provision multiple EC2 instances per subnet.\n",
    "\n",
    "```terraform\n",
    "resource \"aws_instance\" \"app\" {\n",
    "##...\n",
    "  count = var.instances_per_subnet * length(data.terraform_remote_state.vpc.outputs.private_subnet_ids)\n",
    "\n",
    "  ami = \"ami-04d29b6f966df1537\"\n",
    "##...\n",
    "}\n",
    "```\n",
    "\n",
    "Now when you apply this configuration, Terraform will provision var.instances_per_subnet instances for each private subnet configured in your VPC workspace.\n",
    "\n",
    "## Configure region-specific AMIs\n",
    "The AWS instance configuration also uses a hard-coded AMI ID, which is only valid for the us-east-1 region. Use an aws_ami data source to load the correct AMI ID for the current region. Add the following to `learn-terraform-data-sources/main.tf`.\n",
    "\n",
    "```terraform\n",
    "data \"aws_ami\" \"amazon_linux\" {\n",
    "  most_recent = true\n",
    "  owners      = [\"amazon\"]\n",
    "\n",
    "  filter {\n",
    "    name   = \"name\"\n",
    "    values = [\"amzn2-ami-hvm-*-x86_64-gp2\"]\n",
    "  }\n",
    "}\n",
    "```\n",
    "\n",
    "Replace the hard-coded AMI ID with the one loaded from the new data source.\n",
    "\n",
    "```terraform\n",
    "resource \"aws_instance\" \"app\" {\n",
    "  count = var.instances_per_subnet * length(data.terraform_remote_state.vpc.outputs.private_subnet_ids)\n",
    "\n",
    "  ami = data.aws_ami.amazon_linux.id\n",
    "\n",
    "##...\n",
    "}\n",
    "```\n",
    "\n",
    "## Configure EC2 subnet and security groups\n",
    "Finally, update the EC2 instance configuration to use the subnet and security group configuration from the VPC workspace.\n",
    "\n",
    "Inside learn-terraform-data-sources-app/main.tf again:\n",
    "\n",
    "```terraform\n",
    "resource \"aws_instance\" \"app\" {\n",
    "##...\n",
    "\n",
    "  subnet_id              = data.terraform_remote_state.vpc.outputs.private_subnet_ids[count.index % length(data.terraform_remote_state.vpc.outputs.private_subnet_ids)]\n",
    "  vpc_security_group_ids = data.terraform_remote_state.vpc.outputs.app_security_group_ids\n",
    "\n",
    "##...\n",
    "}\n",
    "```\n",
    "\n",
    "Apply the configuration and Terraform will provision the application infrastructure. Respond to the confirmation prompt with a yes.\n"
   ]
  },
  {
   "cell_type": "code",
   "execution_count": null,
   "metadata": {
    "vscode": {
     "languageId": "shellscript"
    }
   },
   "outputs": [],
   "source": [
    "%%bash\n",
    "terraform apply -auto-approve"
   ]
  },
  {
   "attachments": {},
   "cell_type": "markdown",
   "metadata": {},
   "source": [
    "After a few minutes, the load balancer health checks will pass, and will return the example response.\n",
    "\n",
    "```bash\n",
    " curl $(terraform output -raw lb_url)\n",
    "```\n",
    "\n",
    "\n",
    "*Tip* - It can take several minutes for the load balancer to become available. If the curl command returns an error, try again after a few minutes.\n",
    "\n",
    "## Clean up your infrastructure\n",
    "Before moving on, destroy the infrastructure you created in this tutorial.\n",
    "\n",
    "In the application directory, destroy the application infrastructure. Respond to the confirmation prompt with yes, or use the -auto-approve flag to skip it.\n"
   ]
  },
  {
   "cell_type": "code",
   "execution_count": null,
   "metadata": {
    "vscode": {
     "languageId": "shellscript"
    }
   },
   "outputs": [],
   "source": [
    "%%bash\n",
    "terraform destroy -auto-approve"
   ]
  },
  {
   "attachments": {},
   "cell_type": "markdown",
   "metadata": {},
   "source": [
    "\n",
    "*Note* - You must destroy the application workspace before the VPC workspace. Since the resources in the application workspace depend on those in the VPC workspace, the AWS API will return an error if you attempt to destroy the VPC first.\n",
    "\n",
    "Now change to the VPC directory and destroy this infrastructure as well. Once again, respond to the confirmation prompt with yes or use the -auto-approve flag to skip it.\n"
   ]
  },
  {
   "cell_type": "code",
   "execution_count": null,
   "metadata": {
    "vscode": {
     "languageId": "shellscript"
    }
   },
   "outputs": [],
   "source": [
    "%%bash\n",
    "cd ../learn-terraform-data-sources-vpc\n",
    "terraform destroy -var aws_region=us-west-1 -auto-approve"
   ]
  },
  {
   "attachments": {},
   "cell_type": "markdown",
   "metadata": {},
   "source": [
    "If you used Terraform Cloud for this tutorial, after destroying your resources, delete the learn-terraform-data-sources-vpc and learn-terraform-data-sources-app workspaces from your Terraform Cloud organization.\n",
    "\n",
    "## Next steps\n",
    "In this tutorial, you used data sources to make your configuration more dynamic. You deployed two separate configurations for your application and network resources and used the terraform_remote_state data source to share data between them. You also replaced region-specific configuration with dynamic values from AWS provider data sources.\n",
    "\n",
    "Now that you have used Terraform data sources, check out the following resources for more information.\n",
    "\n",
    "[Read the Terraform Data Sources documentation](https://developer.hashicorp.com/terraform/language/data-sources)\n",
    "\n",
    "[Connect Terraform Cloud Workspaces with run triggers, and use outputs from one workspace to configure another workspace](https://developer.hashicorp.com/terraform/tutorials/cloud/cloud-run-triggers)\n",
    "\n",
    "[Inject secrets into Terraform using the Vault provider](https://developer.hashicorp.com/terraform/tutorials/secrets/secrets-vault)\n",
    "\n",
    "Let's look at Ansible next. We'll start with a really simple HelloWorld example.\n",
    "\n",
    "[< Previous](../providers/Terraform_Providers.ipynb) | [Home](../../README.ipynb) | [Next >](../../../ansible/HelloWorld.ipynb)"
   ]
  }
 ],
 "metadata": {
  "language_info": {
   "name": "python"
  },
  "orig_nbformat": 4
 },
 "nbformat": 4,
 "nbformat_minor": 2
}
