{
 "cells": [
  {
   "attachments": {},
   "cell_type": "markdown",
   "metadata": {},
   "source": [
    "# Getting Started - Terraform\n",
    "\n",
    "This section is all about how to get started with Terraform - what is it & why it is needed.\n",
    "\n",
    "Following topics are covered in this section:\n",
    "\n",
    "- [The problem of provisioning everything manually](the-problem.ipynb)\n",
    "- [The concept of Infrastructure as a Code (IaC)](iac.md)\n",
    "- [Where terraform comes in?](terraform.md)\n",
    "- [Use cases of Terraform](use-cases.md)"
   ]
  }
 ],
 "metadata": {
  "language_info": {
   "name": "python"
  },
  "orig_nbformat": 4
 },
 "nbformat": 4,
 "nbformat_minor": 2
}
